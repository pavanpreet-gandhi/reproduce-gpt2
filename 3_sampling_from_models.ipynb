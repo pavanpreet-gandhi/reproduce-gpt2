{
 "cells": [
  {
   "cell_type": "markdown",
   "metadata": {},
   "source": [
    "## Contents\n",
    "1. Sample from pre-trained model\n",
    "1. Sample from from-scratch model"
   ]
  },
  {
   "cell_type": "code",
   "execution_count": 1,
   "metadata": {},
   "outputs": [],
   "source": [
    "from gpt2 import GPT, GPTConfig # our GPT class\n",
    "import tiktoken\n",
    "import torch\n",
    "import torch.nn as nn\n",
    "import torch.nn.functional as F"
   ]
  },
  {
   "cell_type": "code",
   "execution_count": 2,
   "metadata": {},
   "outputs": [],
   "source": [
    "enc = tiktoken.get_encoding('gpt2')\n",
    "device = torch.device('cuda' if torch.cuda.is_available() else 'cpu') # dynamic device"
   ]
  },
  {
   "cell_type": "markdown",
   "metadata": {},
   "source": [
    "## Pre-trained Model"
   ]
  },
  {
   "cell_type": "code",
   "execution_count": 3,
   "metadata": {},
   "outputs": [
    {
     "name": "stdout",
     "output_type": "stream",
     "text": [
      "loading weights from pretrained gpt: gpt2\n"
     ]
    }
   ],
   "source": [
    "pretrained_model = GPT(GPTConfig).from_pretrained('gpt2').to(device)"
   ]
  },
  {
   "cell_type": "code",
   "execution_count": 4,
   "metadata": {},
   "outputs": [
    {
     "name": "stdout",
     "output_type": "stream",
     "text": [
      "Initial x: torch.Size([3, 5])\n",
      "Generated x: torch.Size([3, 10])\n"
     ]
    }
   ],
   "source": [
    "batches = 3\n",
    "k = 10\n",
    "num_generations = 5\n",
    "\n",
    "prompt = \"Hello, my name is\"\n",
    "tokens = enc.encode(prompt)\n",
    "x = torch.tensor(tokens).to(device) # (T)\n",
    "x = x.unsqueeze(0).repeat(batches, 1) # (B, T)\n",
    "print('Initial x:', x.shape)\n",
    "\n",
    "pretrained_model.eval();\n",
    "for i in range(num_generations): # generate num_generation tokens\n",
    "    with torch.no_grad(): # no need to track gradients\n",
    "        logits, _ = pretrained_model(x) # (B, T, Vocab)\n",
    "        logits = logits[:, -1, :] # (B, Vocab)\n",
    "        probs = F.softmax(logits, dim=-1) # (B, Vocab)\n",
    "        topk_probs, topk_x = torch.topk(probs, k) # (B, k), (B, k)\n",
    "        ix = torch.multinomial(topk_probs, num_samples=1) # (B, 1)\n",
    "        next_x = topk_x.gather(dim=1, index=ix) # (B, 1)\n",
    "        x = torch.cat((x, next_x), dim=-1) # (B, T+1)\n",
    "print('Generated x:', x.shape)"
   ]
  },
  {
   "cell_type": "code",
   "execution_count": 5,
   "metadata": {},
   "outputs": [
    {
     "name": "stdout",
     "output_type": "stream",
     "text": [
      "Batch 1: Hello, my name is Michael. I'm a\n",
      "Batch 2: Hello, my name is Kiyoshi Kiy\n",
      "Batch 3: Hello, my name is David and I am a\n"
     ]
    }
   ],
   "source": [
    "for i in range(batches):\n",
    "    print(f'Batch {i+1}:', enc.decode(x[i].tolist()))"
   ]
  },
  {
   "cell_type": "markdown",
   "metadata": {},
   "source": [
    "## From Scratch Model"
   ]
  },
  {
   "cell_type": "code",
   "execution_count": 6,
   "metadata": {},
   "outputs": [],
   "source": [
    "model = GPT(GPTConfig).to(device)"
   ]
  },
  {
   "cell_type": "code",
   "execution_count": 7,
   "metadata": {},
   "outputs": [
    {
     "name": "stdout",
     "output_type": "stream",
     "text": [
      "Initial x: torch.Size([3, 5])\n",
      "Generated x: torch.Size([3, 10])\n"
     ]
    }
   ],
   "source": [
    "batches = 3\n",
    "k = 10\n",
    "num_generations = 5\n",
    "\n",
    "prompt = \"Hello, my name is\"\n",
    "tokens = enc.encode(prompt)\n",
    "x = torch.tensor(tokens).to(device) # (T)\n",
    "x = x.unsqueeze(0).repeat(batches, 1) # (B, T)\n",
    "print('Initial x:', x.shape)\n",
    "\n",
    "model.eval();\n",
    "for i in range(num_generations): # generate num_generation tokens\n",
    "    with torch.no_grad(): # no need to track gradients\n",
    "        logits, _ = model(x) # (B, T, Vocab)\n",
    "        logits = logits[:, -1, :] # (B, Vocab)\n",
    "        probs = F.softmax(logits, dim=-1) # (B, Vocab)\n",
    "        topk_probs, topk_x = torch.topk(probs, k) # (B, k), (B, k)\n",
    "        ix = torch.multinomial(topk_probs, num_samples=1) # (B, 1)\n",
    "        next_x = topk_x.gather(dim=1, index=ix) # (B, 1)\n",
    "        x = torch.cat((x, next_x), dim=-1) # (B, T+1)\n",
    "print('Generated x:', x.shape)"
   ]
  },
  {
   "cell_type": "code",
   "execution_count": 8,
   "metadata": {},
   "outputs": [
    {
     "name": "stdout",
     "output_type": "stream",
     "text": [
      "Batch 1: Hello, my name is HASgra keysweetweet\n",
      "Batch 2: Hello, my name isaggressive 2022 desc descabul\n",
      "Batch 3: Hello, my name isvantvant although althoughweet\n"
     ]
    }
   ],
   "source": [
    "for i in range(batches):\n",
    "    print(f'Batch {i+1}:', enc.decode(x[i].tolist())) # Generating random tokens"
   ]
  }
 ],
 "metadata": {
  "kernelspec": {
   "display_name": ".venv",
   "language": "python",
   "name": "python3"
  },
  "language_info": {
   "codemirror_mode": {
    "name": "ipython",
    "version": 3
   },
   "file_extension": ".py",
   "mimetype": "text/x-python",
   "name": "python",
   "nbconvert_exporter": "python",
   "pygments_lexer": "ipython3",
   "version": "3.10.12"
  }
 },
 "nbformat": 4,
 "nbformat_minor": 2
}
