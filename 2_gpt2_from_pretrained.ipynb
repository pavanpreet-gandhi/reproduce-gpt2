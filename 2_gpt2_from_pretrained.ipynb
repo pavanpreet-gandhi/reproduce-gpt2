{
 "cells": [
  {
   "cell_type": "markdown",
   "metadata": {},
   "source": [
    "## Contents\n",
    "1. Load (our) GPT model from pre-trained weights\n",
    "1. Sample from the model"
   ]
  },
  {
   "cell_type": "code",
   "execution_count": 1,
   "metadata": {},
   "outputs": [],
   "source": [
    "import torch\n",
    "from torch.nn import functional as F\n",
    "import tiktoken\n",
    "from gpt2 import GPT # our GPT class"
   ]
  },
  {
   "cell_type": "code",
   "execution_count": 2,
   "metadata": {},
   "outputs": [
    {
     "name": "stdout",
     "output_type": "stream",
     "text": [
      "loading weights from pretrained gpt: gpt2\n",
      "Model object type: <class 'gpt2.GPT'>\n",
      "\n",
      "GPT(\n",
      "  (transformer): ModuleDict(\n",
      "    (wte): Embedding(50257, 768)\n",
      "    (wpe): Embedding(1024, 768)\n",
      "    (h): ModuleList(\n",
      "      (0-11): 12 x Block(\n",
      "        (ln_1): LayerNorm((768,), eps=1e-05, elementwise_affine=True)\n",
      "        (attn): CausalSelfAttention(\n",
      "          (c_attn): Linear(in_features=768, out_features=2304, bias=True)\n",
      "          (c_proj): Linear(in_features=768, out_features=768, bias=True)\n",
      "        )\n",
      "        (ln_2): LayerNorm((768,), eps=1e-05, elementwise_affine=True)\n",
      "        (mlp): MLP(\n",
      "          (c_fc): Linear(in_features=768, out_features=3072, bias=True)\n",
      "          (gelu): GELU(approximate='tanh')\n",
      "          (c_proj): Linear(in_features=3072, out_features=768, bias=True)\n",
      "        )\n",
      "      )\n",
      "    )\n",
      "    (ln_f): LayerNorm((768,), eps=1e-05, elementwise_affine=True)\n",
      "  )\n",
      "  (lm_head): Linear(in_features=768, out_features=50257, bias=False)\n",
      ")\n"
     ]
    }
   ],
   "source": [
    "model = GPT.from_pretrained(\"gpt2\")\n",
    "print(f'Model object type: {type(model)}\\n')\n",
    "print(model)"
   ]
  },
  {
   "cell_type": "code",
   "execution_count": 3,
   "metadata": {},
   "outputs": [],
   "source": [
    "model.eval(); # good practice even if you do not use dropout or batchnorm\n",
    "model.to('cuda');"
   ]
  },
  {
   "cell_type": "code",
   "execution_count": 4,
   "metadata": {},
   "outputs": [],
   "source": [
    "num_return_sequences = 5\n",
    "max_length = 30"
   ]
  },
  {
   "cell_type": "code",
   "execution_count": 5,
   "metadata": {},
   "outputs": [
    {
     "name": "stdout",
     "output_type": "stream",
     "text": [
      "tensor([[15496,    11,   314,  1101,   257,  3303,  2746,    11],\n",
      "        [15496,    11,   314,  1101,   257,  3303,  2746,    11],\n",
      "        [15496,    11,   314,  1101,   257,  3303,  2746,    11],\n",
      "        [15496,    11,   314,  1101,   257,  3303,  2746,    11],\n",
      "        [15496,    11,   314,  1101,   257,  3303,  2746,    11]])\n"
     ]
    }
   ],
   "source": [
    "enc = tiktoken.get_encoding('gpt2')\n",
    "tokens = enc.encode(\"Hello, I'm a language model,\")\n",
    "tokens = torch.tensor(tokens, dtype=torch.long) # (8, )\n",
    "tokens = tokens.unsqueeze(0).repeat(num_return_sequences, 1) # (5, 8)\n",
    "print(tokens) # this will be the first input to the auto-regressive model"
   ]
  },
  {
   "cell_type": "code",
   "execution_count": 6,
   "metadata": {},
   "outputs": [],
   "source": [
    "torch.manual_seed(42)\n",
    "torch.cuda.manual_seed(42)\n",
    "x = tokens.to('cuda') # (B, T) = (5, 8)\n",
    "while x.size(1) < max_length:\n",
    "    with torch.no_grad():\n",
    "        logits, loss = model(x) # (B, T, vocab_size)\n",
    "        logits = logits[:, -1, :] # (B, vocab_size)\n",
    "        probs = F.softmax(logits, dim=-1) # (B, vocab_size)\n",
    "        topk_probs, topk_indices = torch.topk(probs, 50, dim=-1) # (B, 50)\n",
    "        ix = torch.multinomial(topk_probs, 1) # (B, 1)\n",
    "        xcol = torch.gather(topk_indices, 1, ix) # (B, 1)\n",
    "        x = torch.cat((x, xcol), dim=1)"
   ]
  },
  {
   "cell_type": "code",
   "execution_count": 7,
   "metadata": {},
   "outputs": [
    {
     "name": "stdout",
     "output_type": "stream",
     "text": [
      "Hello, I'm a language model, not a program.\n",
      "\n",
      "So this morning I started studying for the interview in the lab. This was not\n",
      "Hello, I'm a language model, and one of the main things that bothers me when they create languages is how easy it becomes to create something that\n",
      "Hello, I'm a language model, and I wrote it off on the grounds that a language model would make me more fluent. But I'm not\n",
      "Hello, I'm a language model, I really like languages. I like languages because like, they're good. And the way we talk about languages\n",
      "Hello, I'm a language model, a language model I'm using for data modelling. All I did was test the results and then I wrote some\n"
     ]
    }
   ],
   "source": [
    "for i in range(num_return_sequences):\n",
    "    tokens = x[i, :max_length].tolist()\n",
    "    print(enc.decode(tokens))"
   ]
  },
  {
   "cell_type": "markdown",
   "metadata": {},
   "source": [
    "The results match with the huggingface model!"
   ]
  }
 ],
 "metadata": {
  "kernelspec": {
   "display_name": ".venv",
   "language": "python",
   "name": "python3"
  },
  "language_info": {
   "codemirror_mode": {
    "name": "ipython",
    "version": 3
   },
   "file_extension": ".py",
   "mimetype": "text/x-python",
   "name": "python",
   "nbconvert_exporter": "python",
   "pygments_lexer": "ipython3",
   "version": "3.10.12"
  }
 },
 "nbformat": 4,
 "nbformat_minor": 2
}
